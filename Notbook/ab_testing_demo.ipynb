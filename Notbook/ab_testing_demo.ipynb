{
 "cells": [
  {
   "cell_type": "markdown",
   "metadata": {},
   "source": [
    "# A/B Testing Simulation for Insurance Analytics\n",
    "\n",
    "This notebook simulates an A/B test comparing claim frequencies between two groups: a control group with standard premiums and a treatment group with reduced premiums.\n"
   ]
  },
  {
   "cell_type": "code",
   "execution_count": 1,
   "metadata": {},
   "outputs": [],
   "source": [
    "import pandas as pd\n",
    "import numpy as np\n",
    "from scipy import stats\n",
    "import warnings\n",
    "warnings.filterwarnings('ignore')"
   ]
  },
  {
   "cell_type": "code",
   "execution_count": 2,
   "metadata": {},
   "outputs": [],
   "source": [
    "# notebooks/example_notebook.ipynb\n",
    "\n",
    "import sys\n",
    "import os\n",
    "sys.path.append(os.path.abspath('../Scripts'))"
   ]
  },
  {
   "cell_type": "code",
   "execution_count": 3,
   "metadata": {},
   "outputs": [],
   "source": [
    "from utils import save_data_to_csv, gender_analysis"
   ]
  },
  {
   "cell_type": "code",
   "execution_count": 4,
   "metadata": {},
   "outputs": [],
   "source": [
    "df = pd.read_csv('../data/insurance_text_data.csv')"
   ]
  },
  {
   "cell_type": "markdown",
   "metadata": {},
   "source": [
    "### Risk differences across provinces"
   ]
  },
  {
   "cell_type": "code",
   "execution_count": 5,
   "metadata": {},
   "outputs": [
    {
     "name": "stdout",
     "output_type": "stream",
     "text": [
      "Risk differences between provinces:\n",
      "F-statistic: 5.849413762407606,\n",
      "p-value: 1.6782057588675903e-07\n",
      "Reject the null hypothesis: There are significant risk differences across provinces.\n"
     ]
    }
   ],
   "source": [
    "# Group by 'Province' and compute the mean 'TotalClaims'\n",
    "provinces = df['Province'].unique()\n",
    "risk_by_province = df.groupby('Province')['TotalClaims'].mean()\n",
    "\n",
    "# Perform one-way ANOVA\n",
    "f_statistic_province, p_value_province = stats.f_oneway(*[df[df['Province'] == province]['TotalClaims'] for province in provinces])\n",
    "\n",
    "# Print results\n",
    "print(f\"Risk differences between provinces:\\nF-statistic: {f_statistic_province},\\np-value: {p_value_province}\")\n",
    "if p_value_province < 0.05:\n",
    "    print(\"Reject the null hypothesis: There are significant risk differences across provinces.\")\n",
    "else:\n",
    "    print(\"Accept the null hypothesis: There are no significant risk differences across provinces.\")"
   ]
  },
  {
   "cell_type": "markdown",
   "metadata": {},
   "source": [
    "## Risk differences between zip codes"
   ]
  },
  {
   "cell_type": "code",
   "execution_count": 6,
   "metadata": {},
   "outputs": [
    {
     "name": "stdout",
     "output_type": "stream",
     "text": [
      "Risk differences between zip codes:\n",
      "F-statistic: 0.9419762214391849,\n",
      "p-value: 0.8906511279164051\n",
      "Accept the null hypothesis: There are no significant risk differences between zip codes.\n"
     ]
    }
   ],
   "source": [
    "# Risk differences between zip codes\n",
    "zip_codes = df['PostalCode'].unique()\n",
    "#print(len(zip_codes))\n",
    "risk_by_zipcode = df.groupby('PostalCode')['TotalClaims'].mean()\n",
    "#print(risk_by_zipcode)\n",
    "\n",
    "f_statistic_zip, p_value_zip = stats.f_oneway(*[df[df['PostalCode'] == zipcode]['TotalClaims'] for zipcode in zip_codes])\n",
    "\n",
    "print(\"Risk differences between zip codes:\")\n",
    "print(f\"F-statistic: {f_statistic_zip},\\np-value: {p_value_zip}\")\n",
    "if p_value_zip < 0.05:\n",
    "    print(\"Reject the null hypothesis: There are significant risk differences between zip codes.\")\n",
    "else:\n",
    "    print(\"Accept the null hypothesis: There are no significant risk differences between zip codes.\")"
   ]
  },
  {
   "cell_type": "markdown",
   "metadata": {},
   "source": [
    "### Margin (profit) difference between zip codes"
   ]
  },
  {
   "cell_type": "code",
   "execution_count": 7,
   "metadata": {},
   "outputs": [
    {
     "name": "stdout",
     "output_type": "stream",
     "text": [
      "Margin differences between zip codes:\n",
      "F-statistic: 0.8707474893589263,\n",
      "p-value: 0.9976859758015036\n",
      "Accept the null hypothesis: There are no significant margin differences between zip codes.\n"
     ]
    }
   ],
   "source": [
    "# Calculate profit margin\n",
    "df['ProfitMargin'] = df['TotalPremium'] - df['TotalClaims']\n",
    "\n",
    "# Perform one-way ANOVA for margin differences between zip codes\n",
    "f_statistic_margin, p_value_margin = stats.f_oneway(*[df[df['PostalCode'] == zipcode]['ProfitMargin'] for zipcode in zip_codes])\n",
    "\n",
    "# Print results\n",
    "print(f\"Margin differences between zip codes:\\nF-statistic: {f_statistic_margin},\\np-value: {p_value_margin}\")\n",
    "if p_value_margin < 0.05:\n",
    "    print(\"Reject the null hypothesis: There are significant margin differences between zip codes.\")\n",
    "else:\n",
    "    print(\"Accept the null hypothesis: There are no significant margin differences between zip codes.\")"
   ]
  },
  {
   "cell_type": "markdown",
   "metadata": {},
   "source": [
    "### Risk difference between Women and Men"
   ]
  },
  {
   "cell_type": "code",
   "execution_count": 8,
   "metadata": {},
   "outputs": [
    {
     "name": "stdout",
     "output_type": "stream",
     "text": [
      "Risk differences between Men and Women:\n",
      "T-statistic: -0.24803623812388725,\n",
      "p-value: 0.8041073961270343\n",
      "Accept the null hypothesis: There are no significant risk differences between Men and Women.\n"
     ]
    }
   ],
   "source": [
    "# Perform a two-sample t-test for claims between genders\n",
    "male_claims = df[df['Gender'] == 'Male']['TotalClaims']\n",
    "female_claims = df[df['Gender'] == 'Female']['TotalClaims']\n",
    "\n",
    "# Conduct t-test\n",
    "t_statistic_gender, p_value_gender = stats.ttest_ind(male_claims, female_claims, nan_policy='omit')\n",
    "\n",
    "# Print results\n",
    "print(f\"Risk differences between Men and Women:\\nT-statistic: {t_statistic_gender},\\np-value: {p_value_gender}\")\n",
    "if p_value_gender < 0.05:\n",
    "    print(\"Reject the null hypothesis: There are significant risk differences between Men and Women.\")\n",
    "else:\n",
    "    print(\"Accept the null hypothesis: There are no significant risk differences between Men and Women.\")"
   ]
  }
 ],
 "metadata": {
  "kernelspec": {
   "display_name": "eda",
   "language": "python",
   "name": "python3"
  },
  "language_info": {
   "codemirror_mode": {
    "name": "ipython",
    "version": 3
   },
   "file_extension": ".py",
   "mimetype": "text/x-python",
   "name": "python",
   "nbconvert_exporter": "python",
   "pygments_lexer": "ipython3",
   "version": "3.8.10"
  }
 },
 "nbformat": 4,
 "nbformat_minor": 2
}
